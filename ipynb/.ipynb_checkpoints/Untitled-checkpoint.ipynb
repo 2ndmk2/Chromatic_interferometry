{
 "cells": [
  {
   "cell_type": "code",
   "execution_count": 13,
   "metadata": {},
   "outputs": [
    {
     "data": {
      "text/plain": [
       "(array([3., 2.]),\n",
       " 7.888609052210118e-31,\n",
       " {'grad': array([1.77635684e-15, 0.00000000e+00]),\n",
       "  'task': b'CONVERGENCE: NORM_OF_PROJECTED_GRADIENT_<=_PGTOL',\n",
       "  'funcalls': 3,\n",
       "  'nit': 2,\n",
       "  'warnflag': 0})"
      ]
     },
     "execution_count": 13,
     "metadata": {},
     "output_type": "execute_result"
    }
   ],
   "source": [
    "from scipy import optimize\n",
    "import numpy as np\n",
    "\n",
    "def f_grad(x, *args):\n",
    "    x_0, x_1 = args\n",
    "    return np.array([2 * (x[0] - x_0), 2* (x[1] - x_1)])\n",
    "\n",
    "def f(x, *args):\n",
    "    x_0, x_1 = args\n",
    "    return (x[0] - x_0)**2 + (x[1] - x_1)**2\n",
    "bounds = ((0, np.inf), (0, np.inf))\n",
    "\n",
    "optimize.fmin_l_bfgs_b(f, np.array([0, 0]), args = (3,2), fprime =  f_grad, bounds=bounds  )"
   ]
  },
  {
   "cell_type": "code",
   "execution_count": null,
   "metadata": {},
   "outputs": [],
   "source": []
  }
 ],
 "metadata": {
  "kernelspec": {
   "display_name": "Python 3",
   "language": "python",
   "name": "python3"
  },
  "language_info": {
   "codemirror_mode": {
    "name": "ipython",
    "version": 3
   },
   "file_extension": ".py",
   "mimetype": "text/x-python",
   "name": "python",
   "nbconvert_exporter": "python",
   "pygments_lexer": "ipython3",
   "version": "3.6.7"
  }
 },
 "nbformat": 4,
 "nbformat_minor": 2
}
