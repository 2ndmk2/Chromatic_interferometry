{
 "cells": [
  {
   "cell_type": "code",
   "execution_count": 15,
   "metadata": {},
   "outputs": [],
   "source": [
    "from scipy import optimize\n",
    "import numpy as np\n",
    "\n",
    "def f_grad(x, *args):\n",
    "    x_0, x_1 = args\n",
    "    return np.array([2 * (x[0] - x_0), 2* (x[1] - x_1)])\n",
    "\n",
    "def f(x, *args):\n",
    "    x_0, x_1 = args\n",
    "    return (x[0] - x_0)**2 + (x[1] - x_1)**2\n",
    "bounds = ((0, np.inf), (0, np.inf))\n",
    "\n",
    "test = optimize.fmin_l_bfgs_b(f, np.array([0, 0]), args = (3,2), fprime =  f_grad, bounds=bounds  )"
   ]
  },
  {
   "cell_type": "code",
   "execution_count": 17,
   "metadata": {},
   "outputs": [
    {
     "name": "stdout",
     "output_type": "stream",
     "text": [
      "[3. 2.]\n"
     ]
    }
   ],
   "source": [
    "print(test[0])"
   ]
  },
  {
   "cell_type": "code",
   "execution_count": null,
   "metadata": {},
   "outputs": [],
   "source": []
  }
 ],
 "metadata": {
  "kernelspec": {
   "display_name": "Python 3",
   "language": "python",
   "name": "python3"
  },
  "language_info": {
   "codemirror_mode": {
    "name": "ipython",
    "version": 3
   },
   "file_extension": ".py",
   "mimetype": "text/x-python",
   "name": "python",
   "nbconvert_exporter": "python",
   "pygments_lexer": "ipython3",
   "version": "3.6.7"
  }
 },
 "nbformat": 4,
 "nbformat_minor": 2
}
