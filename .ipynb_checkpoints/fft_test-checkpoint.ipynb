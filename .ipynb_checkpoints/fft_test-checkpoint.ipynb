{
 "cells": [
  {
   "cell_type": "code",
   "execution_count": 6,
   "metadata": {},
   "outputs": [],
   "source": [
    "import numpy as np\n",
    "import matplotlib.pyplot as plt\n",
    "\n",
    "def convert_Idash_to_Idashdash(image):\n",
    "\n",
    "    x_len, y_len = np.shape(image)\n",
    "    x = np.arange(x_len)\n",
    "    y = np.arange(y_len)\n",
    "    yy, xx = np.meshgrid(x,y)\n",
    "    phase_factor = np.exp((float(x_len-1)/float(x_len)) * np.pi*1j* (xx + yy))\n",
    "\n",
    "    return phase_factor \n",
    "\n",
    "def convert_visdash_to_vis(vis, dx, dy):\n",
    "\n",
    "    x_len, y_len = np.shape(vis)\n",
    "    x = np.arange(x_len)\n",
    "    y = np.arange(y_len)\n",
    "    yy, xx = np.meshgrid(x,y)\n",
    "    phase_factor = np.exp( (float(x_len-1)/float(x_len)) * np.pi*1j* (xx + yy))\n",
    "    phase_factor2 = np.exp(-np.pi*1j* (float((x_len-1)**2/float(x_len))))\n",
    "    \n",
    "    return phase_factor * phase_factor2 \n",
    "\n",
    "x_len, y_len = 9,9 \n",
    "x = np.arange(x_len)\n",
    "y = np.arange(y_len)\n",
    "yy, xx = np.meshgrid(x,y)\n",
    "image = np.zeros((x_len, y_len))\n"
   ]
  },
  {
   "cell_type": "code",
   "execution_count": 10,
   "metadata": {},
   "outputs": [
    {
     "data": {
      "text/plain": [
       "<matplotlib.image.AxesImage at 0x11131bcc0>"
      ]
     },
     "execution_count": 10,
     "metadata": {},
     "output_type": "execute_result"
    },
    {
     "data": {
      "image/png": "[encoded data removed]",
      "text/plain": [
       "<matplotlib.figure.Figure at 0x11115c550>"
      ]
     },
     "metadata": {
      "needs_background": "light"
     },
     "output_type": "display_data"
    }
   ],
   "source": [
    "plt.imshow(yy, origin = \"lower\")"
   ]
  },
  {
   "cell_type": "code",
   "execution_count": null,
   "metadata": {},
   "outputs": [],
   "source": []
  }
 ],
 "metadata": {
  "kernelspec": {
   "display_name": "Python 3",
   "language": "python",
   "name": "python3"
  },
  "language_info": {
   "codemirror_mode": {
    "name": "ipython",
    "version": 3
   },
   "file_extension": ".py",
   "mimetype": "text/x-python",
   "name": "python",
   "nbconvert_exporter": "python",
   "pygments_lexer": "ipython3",
   "version": "3.6.7"
  }
 },
 "nbformat": 4,
 "nbformat_minor": 2
}
