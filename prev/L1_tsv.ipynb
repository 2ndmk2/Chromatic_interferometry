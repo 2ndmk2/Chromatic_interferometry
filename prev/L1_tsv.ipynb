{
 "cells": [
  {
   "cell_type": "code",
   "execution_count": 1,
   "metadata": {},
   "outputs": [
    {
     "name": "stdout",
     "output_type": "stream",
     "text": [
      "-0.5357218544108037\n",
      "-21643.733978271484 -0.5357218544108037 40401.065963746514\n"
     ]
    },
    {
     "data": {
      "text/plain": [
       "<matplotlib.image.AxesImage at 0x117ff9748>"
      ]
     },
     "execution_count": 1,
     "metadata": {},
     "output_type": "execute_result"
    }
   ],
   "source": [
    "import numpy as np\n",
    "import matplotlib.pyplot as plt\n",
    "from data_make import *\n",
    "from solver import *\n",
    "import solver\n",
    "from plot_make import *\n",
    "import importlib\n",
    "importlib.reload(solver)\n",
    "\n",
    "\n",
    "\n",
    "\n",
    "## Data making\n",
    "x_len, y_len = 201, 201\n",
    "images, xx, yy = image_make(x_len, y_len, (-1,1),(-1,1), gaussian_function, (0.03,0.03, 0,0))\n",
    "\n",
    "## Obs making\n",
    "obs_num = 100\n",
    "vis_obs = obs_make(images, obs_num, 10, sn = 5)\n",
    "\n",
    "\n",
    "## Images from obs\n",
    "#vis_obs_shift = np.fft.ifftshift(vis_obs)\n",
    "ifft_obs = np.fft.ifft2(vis_obs)\n",
    "\n",
    "## Comaparison of images\n",
    "width_im = 20\n",
    "sum_flux_obs = np.sum(ifft_obs.real[int(x_len/2) - width_im:int(x_len/2) + width_im, int(y_len/2) - width_im:int(y_len/2) + width_im])\n",
    "sum_flux_ans = np.sum(images.real[int(x_len/2) - width_im:int(x_len/2) + width_im, int(y_len/2) - width_im:int(y_len/2) + width_im])\n",
    "normalization = np.abs(sum_flux_ans/sum_flux_obs)\n",
    "\n",
    "## Setting priors for model\n",
    "model_prior = ifft_obs.real\n",
    "l2_lambda = 1e3\n",
    "c1 = 1e-4\n",
    "rho = 0.80\n",
    "eps_stop = 1e-10\n",
    "iter_max =50\n",
    "loss_name = \"tsv\"\n",
    "\n",
    "model_prior2 = ifft_obs.real\n",
    "\n",
    "##\n",
    "gradient, test = grad_loss_arr_l2(model_prior, vis_obs, model_prior ,l2_lambda)\n",
    "alpha = 1000 *(np.max(model_prior)/np.min(np.abs(gradient)))\n",
    "print(gradient[0][0])\n",
    "grad_num, grad_l2_num = grad_loss_numerical_l2(model_prior,0,0,vis_obs, model_prior ,l2_lambda)\n",
    "print(grad_num, gradient[0][0], grad_num/gradient[0][0])\n",
    "plt.imshow(images)"
   ]
  },
  {
   "cell_type": "code",
   "execution_count": 2,
   "metadata": {},
   "outputs": [
    {
     "name": "stdout",
     "output_type": "stream",
     "text": [
      "iternum: 50 , L: 76619.06513870326 F_zk: 8.902233199427764\n",
      "iternum: 100 , L: 76619.06513870326 F_zk: 8.837526164798565\n",
      "iternum: 150 , L: 76619.06513870326 F_zk: 8.797162009307922\n",
      "iternum: 200 , L: 76619.06513870326 F_zk: 8.770966547429797\n",
      "iternum: 250 , L: 76619.06513870326 F_zk: 8.753328254972953\n",
      "iternum: 300 , L: 76619.06513870326 F_zk: 8.741047262944491\n",
      "iternum: 350 , L: 76619.06513870326 F_zk: 8.732235392199502\n",
      "iternum: 400 , L: 76619.06513870326 F_zk: 8.725740778340091\n",
      "iternum: 450 , L: 76619.06513870326 F_zk: 8.72083838070085\n",
      "iternum: 500 , L: 76619.06513870326 F_zk: 8.717058393875304\n",
      "iternum: 550 , L: 76619.06513870326 F_zk: 8.71408818063741\n",
      "iternum: 600 , L: 76619.06513870326 F_zk: 8.71171455909531\n",
      "iternum: 650 , L: 76619.06513870326 F_zk: 8.709788887711799\n",
      "iternum: 700 , L: 76619.06513870326 F_zk: 8.708205391430733\n",
      "iternum: 750 , L: 76619.06513870326 F_zk: 8.706887381827995\n",
      "iternum: 800 , L: 76619.06513870326 F_zk: 8.705778299882997\n",
      "iternum: 850 , L: 76619.06513870326 F_zk: 8.704835772824163\n",
      "iternum: 900 , L: 76619.06513870326 F_zk: 8.704027595063074\n",
      "iternum: 950 , L: 76619.06513870326 F_zk: 8.703328961865413\n",
      "iternum: 1000 , L: 76619.06513870326 F_zk: 8.70272053377532\n"
     ]
    }
   ],
   "source": [
    "import solver\n",
    "\n",
    "importlib.reload(solver)\n",
    "\n",
    "model_map2 = only_fx_mfista(images, loss_function_TSV, grad_loss_tsv, zero_func, 1.1, 1, 1000, vis_obs, model_prior, l2_lambda)"
   ]
  },
  {
   "cell_type": "code",
   "execution_count": 3,
   "metadata": {},
   "outputs": [
    {
     "name": "stdout",
     "output_type": "stream",
     "text": [
      "20653 9 19739 0.00020757015304868407\n",
      "iternum: 50 , L: 41616.65758992186 F_zk: 8.610540058175781\n",
      "20582 188 19631 0.0002523028183441321\n",
      "iternum: 100 , L: 41616.65758992186 F_zk: 8.610538358499898\n",
      "20489 401 19511 0.0002523028183441321\n",
      "iternum: 150 , L: 39634.91199040177 F_zk: 8.610536701327016\n",
      "20383 593 19425 0.0002523028183441321\n",
      "iternum: 200 , L: 43697.49046941796 F_zk: 8.61053505848398\n",
      "20279 778 19344 0.00024028839842298293\n",
      "iternum: 250 , L: 37747.53522895407 F_zk: 8.610533448649814\n",
      "20181 958 19262 0.00024028839842298293\n",
      "iternum: 300 , L: 39634.91199040177 F_zk: 8.610531852699358\n",
      "20091 1141 19169 0.0002649179592613387\n",
      "iternum: 350 , L: 37747.53522895407 F_zk: 8.61053027401609\n",
      "19979 1345 19077 0.0002523028183441321\n",
      "iternum: 400 , L: 39634.91199040177 F_zk: 8.610528726040721\n",
      "19876 1547 18978 0.0002649179592613387\n",
      "iternum: 450 , L: 41616.65758992186 F_zk: 8.61052719765338\n",
      "19787 1730 18884 0.0002523028183441321\n",
      "iternum: 500 , L: 37747.53522895407 F_zk: 8.610525696199288\n",
      "19686 1922 18793 0.0002649179592613387\n",
      "iternum: 550 , L: 37747.53522895407 F_zk: 8.610524210652837\n",
      "19581 2122 18698 0.00024028839842298293\n",
      "iternum: 600 , L: 41616.65758992186 F_zk: 8.610522748885227\n",
      "19483 2311 18607 0.0002523028183441321\n",
      "iternum: 650 , L: 39634.91199040177 F_zk: 8.610521305972439\n",
      "19377 2502 18522 0.0002649179592613387\n",
      "iternum: 700 , L: 37747.53522895407 F_zk: 8.610519886258803\n",
      "19286 2668 18447 0.0002781638572244056\n"
     ]
    }
   ],
   "source": [
    "import solver\n",
    "importlib.reload(solver)\n",
    "\n",
    "l2_lambda = 0\n",
    "l1_lambda = 1e1\n",
    "model_map3 = fx_L1_mfista(images, loss_function_TSV, grad_loss_tsv, L1_norm, 1.05, 1, 700, vis_obs, l1_lambda, l2_lambda)"
   ]
  },
  {
   "cell_type": "code",
   "execution_count": 65,
   "metadata": {},
   "outputs": [
    {
     "name": "stdout",
     "output_type": "stream",
     "text": [
      "3184\n"
     ]
    }
   ],
   "source": [
    "print(len(model_map3[model_map3==0]))"
   ]
  },
  {
   "cell_type": "code",
   "execution_count": 4,
   "metadata": {},
   "outputs": [
    {
     "data": {
      "image/png": "[encoded data removed]",
      "text/plain": [
       "<matplotlib.figure.Figure at 0x10c48b588>"
      ]
     },
     "metadata": {
      "needs_background": "light"
     },
     "output_type": "display_data"
    }
   ],
   "source": [
    "nx ,ny = np.shape(model_map2)\n",
    "fig = plt.figure()\n",
    "ax = fig.add_subplot(111)\n",
    "im  = ax.imshow(model_prior)\n",
    "wd = 30\n",
    "plt.xlim(nx/2 - wd,  nx/2 + wd)\n",
    "plt.ylim(ny/2 - wd,  ny/2 + wd)\n",
    "fig.colorbar(im)\n",
    "l2_lambda = 1e3\n",
    "#print(np.max(model_map2), np.max(model_map3), np.sum(model_map2), np.sum(model_map3))"
   ]
  },
  {
   "cell_type": "code",
   "execution_count": 5,
   "metadata": {},
   "outputs": [
    {
     "name": "stdout",
     "output_type": "stream",
     "text": [
      "121.44900306968796 443.13948606362567 25066.282746309986 24905.680679167814\n"
     ]
    },
    {
     "data": {
      "image/png": "[encoded data removed]",
      "text/plain": [
       "<matplotlib.figure.Figure at 0x11839aa58>"
      ]
     },
     "metadata": {
      "needs_background": "light"
     },
     "output_type": "display_data"
    }
   ],
   "source": [
    "nx ,ny = np.shape(model_map3)\n",
    "fig = plt.figure()\n",
    "ax = fig.add_subplot(111)\n",
    "im  = ax.imshow(model_map3)\n",
    "wd = 30\n",
    "plt.xlim(nx/2 - wd,  nx/2 + wd)\n",
    "plt.ylim(ny/2 - wd,  ny/2 + wd)\n",
    "fig.colorbar(im)\n",
    "l2_lambda = 1e3\n",
    "\n",
    "print(np.max(model_map2), np.max(model_map3), np.sum(model_map2), np.sum(model_map3))"
   ]
  },
  {
   "cell_type": "code",
   "execution_count": 6,
   "metadata": {},
   "outputs": [
    {
     "name": "stdout",
     "output_type": "stream",
     "text": [
      "25212.010019589783\n",
      "25066.282746309982\n"
     ]
    }
   ],
   "source": [
    "wd = 30\n",
    "print(np.sum(model_map3[int(nx/2 - wd):int(nx/2 + wd), int(nx/2 - wd):int(nx/2 + wd)]))\n",
    "print(np.sum(images[int(nx/2 - wd):int(nx/2 + wd), int(nx/2 - wd):int(nx/2 + wd)]))"
   ]
  },
  {
   "cell_type": "code",
   "execution_count": null,
   "metadata": {},
   "outputs": [],
   "source": []
  },
  {
   "cell_type": "code",
   "execution_count": 45,
   "metadata": {},
   "outputs": [
    {
     "data": {
      "text/plain": [
       "<matplotlib.colorbar.Colorbar at 0x116b7aa58>"
      ]
     },
     "execution_count": 45,
     "metadata": {},
     "output_type": "execute_result"
    },
    {
     "data": {
      "image/png": "[encoded data removed]",
      "text/plain": [
       "<matplotlib.figure.Figure at 0x116cb0f60>"
      ]
     },
     "metadata": {
      "needs_background": "light"
     },
     "output_type": "display_data"
    }
   ],
   "source": [
    "nx ,ny = np.shape(model_map3)\n",
    "fig = plt.figure()\n",
    "ax = fig.add_subplot(111)\n",
    "im  = ax.imshow(images)\n",
    "wd = 30\n",
    "plt.xlim(nx/2 - wd,  nx/2 + wd)\n",
    "plt.ylim(ny/2 - wd,  ny/2 + wd)\n",
    "fig.colorbar(im)"
   ]
  },
  {
   "cell_type": "code",
   "execution_count": null,
   "metadata": {},
   "outputs": [],
   "source": []
  }
 ],
 "metadata": {
  "kernelspec": {
   "display_name": "Python 3",
   "language": "python",
   "name": "python3"
  },
  "language_info": {
   "codemirror_mode": {
    "name": "ipython",
    "version": 3
   },
   "file_extension": ".py",
   "mimetype": "text/x-python",
   "name": "python",
   "nbconvert_exporter": "python",
   "pygments_lexer": "ipython3",
   "version": "3.6.7"
  }
 },
 "nbformat": 4,
 "nbformat_minor": 2
}
